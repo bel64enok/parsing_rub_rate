{
 "cells": [
  {
   "cell_type": "markdown",
   "source": [
    "# Парсер чемпионов и их умений из LOL"
   ],
   "metadata": {
    "collapsed": false
   }
  },
  {
   "cell_type": "markdown",
   "source": [
    "#### Истоник - https://www.leagueoflegends.com/ru-ru/champions/"
   ],
   "metadata": {
    "collapsed": false
   }
  },
  {
   "cell_type": "code",
   "execution_count": null,
   "outputs": [],
   "source": [
    "import requests\n",
    "import pandas as pd\n",
    "from bs4 import BeautifulSoup as bs"
   ],
   "metadata": {
    "collapsed": false,
    "pycharm": {
     "is_executing": true
    }
   }
  },
  {
   "cell_type": "code",
   "execution_count": null,
   "outputs": [],
   "source": [
    "'''Add main URL'''\n",
    "'''Later we will have to fall into each individual page of the hero'''\n",
    "URL = \"https://www.leagueoflegends.com/ru-ru/champions/\"\n",
    "r = requests.get(URL)\n",
    "r.text"
   ],
   "metadata": {
    "collapsed": false,
    "pycharm": {
     "is_executing": true
    }
   }
  },
  {
   "cell_type": "code",
   "execution_count": null,
   "outputs": [],
   "source": [
    "'''Making reading easier'''\n",
    "soup = bs(r.text, 'lxml')\n",
    "soup"
   ],
   "metadata": {
    "collapsed": false
   }
  },
  {
   "cell_type": "code",
   "execution_count": null,
   "outputs": [],
   "source": [
    "'''We found that all the names of the heroes are located in the string container SPAN with the class CLASS style__Text-n3ovyt-3 gMLOLF'''\n",
    "names = bs(r.text, 'lxml').find_all('span', class_=\"style__Text-n3ovyt-3 gMLOLF\")\n",
    "names"
   ],
   "metadata": {
    "collapsed": false
   }
  },
  {
   "cell_type": "code",
   "execution_count": null,
   "outputs": [],
   "source": [
    "'''We bring to a convenient format of Data Frame'''\n",
    "final_df = pd.DataFrame(names)\n",
    "final_df"
   ],
   "metadata": {
    "collapsed": false
   }
  },
  {
   "cell_type": "markdown",
   "source": [
    "## Next steps\n",
    "1. Display a description of the skills of each character\n",
    "2. Show the button of the corresponding skill\n",
    "3. Show character's main skin image"
   ],
   "metadata": {
    "collapsed": false
   }
  },
  {
   "cell_type": "code",
   "execution_count": null,
   "outputs": [],
   "source": [],
   "metadata": {
    "collapsed": false
   }
  }
 ],
 "metadata": {
  "kernelspec": {
   "display_name": "Python 3",
   "language": "python",
   "name": "python3"
  },
  "language_info": {
   "codemirror_mode": {
    "name": "ipython",
    "version": 2
   },
   "file_extension": ".py",
   "mimetype": "text/x-python",
   "name": "python",
   "nbconvert_exporter": "python",
   "pygments_lexer": "ipython2",
   "version": "2.7.6"
  }
 },
 "nbformat": 4,
 "nbformat_minor": 0
}
